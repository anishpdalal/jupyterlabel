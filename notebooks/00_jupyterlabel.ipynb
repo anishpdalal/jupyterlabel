{
 "cells": [
  {
   "cell_type": "code",
   "execution_count": null,
   "metadata": {},
   "outputs": [],
   "source": [
    "# default_exp jupyterlabel"
   ]
  },
  {
   "cell_type": "code",
   "execution_count": null,
   "metadata": {},
   "outputs": [],
   "source": [
    "%matplotlib inline\n",
    "%load_ext autoreload\n",
    "%autoreload 2"
   ]
  },
  {
   "cell_type": "code",
   "execution_count": null,
   "metadata": {},
   "outputs": [],
   "source": [
    "# export\n",
    "import csv\n",
    "import sys\n",
    "\n",
    "from IPython.display import clear_output, display\n",
    "import matplotlib.pyplot as plt\n",
    "import numpy as np\n",
    "import pandas as pd\n",
    "from sklearn.metrics import confusion_matrix\n",
    "import seaborn as sns"
   ]
  },
  {
   "cell_type": "code",
   "execution_count": null,
   "metadata": {},
   "outputs": [],
   "source": [
    "# export\n",
    "class Labeler:\n",
    "    def __init__(self, df, target_var, output_path=None, features=None):\n",
    "        self.df = df\n",
    "        self.features = features\n",
    "        self.target_var = target_var\n",
    "        self.output_path = output_path\n",
    "        \n",
    "    def _validate_input(self):\n",
    "        while True:\n",
    "            label = input('Enter option: ')\n",
    "            if label == 'save' or label in self._labels:\n",
    "                break\n",
    "            else:\n",
    "                continue\n",
    "        return label\n",
    "    \n",
    "    def _clear_output(self):\n",
    "        clear_output(wait=True)\n",
    "    \n",
    "    def _display(self):\n",
    "        display(self._row[self.features])\n",
    "    \n",
    "    def __call__(self):\n",
    "        while self._count <= self._n:\n",
    "            self._clear_output()\n",
    "            print(f\"Valid options: {', '.join(self._labels)}, save\")\n",
    "            print(f\"Total samples labeled: {self._count}/{self._n}\")\n",
    "            self._row = self._df.sample(1, replace=False)\n",
    "            self._display()\n",
    "            self._label = self._validate_input()\n",
    "            if self._label == 'save':\n",
    "                break\n",
    "            self._row['manual_label'] = self._label\n",
    "            self._label_df = self._label_df.append(self._row.copy())\n",
    "            self._count += 1\n",
    "    \n",
    "    def __enter__(self):\n",
    "        self._labels = self.df[self.target_var].unique()\n",
    "        self._mapping = {}\n",
    "        self._n = len(self.df)\n",
    "        self._count = 0\n",
    "        self._df = self.df[self.features + [self.target_var]].copy() if self.features else self.df.copy()\n",
    "        self._label_df = pd.DataFrame(columns=list(self._df.columns) + ['manual_label'])\n",
    "        for ix, label in enumerate(self._labels):\n",
    "            self._mapping[ix] = label\n",
    "        return self\n",
    "    \n",
    "    def _plot_cm(self, cm):\n",
    "        fig = plt.figure()\n",
    "        ax= plt.subplot()\n",
    "        sns.heatmap(cm, annot=True, ax = ax, cmap=plt.cm.Blues)\n",
    "        ax.set_xlabel('Predicted labels');\n",
    "        ax.set_ylabel('True labels'); \n",
    "        ax.set_title('Confusion Matrix'); \n",
    "        ax.xaxis.set_ticklabels(self._labels); \n",
    "        ax.yaxis.set_ticklabels(self._labels);\n",
    "    \n",
    "    def __exit__(self, exc_type, exc_val, exc_tb):\n",
    "        if self._count > 0:\n",
    "            self._label_df['manual_label'].replace(self._mapping, inplace=True)\n",
    "            cm = confusion_matrix(self._label_df[self.target_var],\n",
    "                                  self._label_df['manual_label'],\n",
    "                                  labels=self._labels)\n",
    "            self._plot_cm(cm)\n",
    "\n",
    "            if self.output_path:\n",
    "                print(f\"Writing csv to {self.output_path}\")\n",
    "                self._label_df.to_csv(self.output_path)"
   ]
  },
  {
   "cell_type": "code",
   "execution_count": null,
   "metadata": {},
   "outputs": [
    {
     "name": "stdout",
     "output_type": "stream",
     "text": [
      "Valid options: Yes, No, save\n",
      "Total samples labeled: 18/128\n"
     ]
    },
    {
     "data": {
      "text/html": [
       "<div>\n",
       "<style scoped>\n",
       "    .dataframe tbody tr th:only-of-type {\n",
       "        vertical-align: middle;\n",
       "    }\n",
       "\n",
       "    .dataframe tbody tr th {\n",
       "        vertical-align: top;\n",
       "    }\n",
       "\n",
       "    .dataframe thead th {\n",
       "        text-align: right;\n",
       "    }\n",
       "</style>\n",
       "<table border=\"1\" class=\"dataframe\">\n",
       "  <thead>\n",
       "    <tr style=\"text-align: right;\">\n",
       "      <th></th>\n",
       "      <th>Goal Scored</th>\n",
       "      <th>Ball Possession %</th>\n",
       "      <th>On-Target</th>\n",
       "      <th>Off-Target</th>\n",
       "      <th>Blocked</th>\n",
       "      <th>Corners</th>\n",
       "      <th>Offsides</th>\n",
       "      <th>Free Kicks</th>\n",
       "      <th>Saves</th>\n",
       "      <th>Pass Accuracy %</th>\n",
       "      <th>Passes</th>\n",
       "      <th>Distance Covered (Kms)</th>\n",
       "      <th>Fouls Committed</th>\n",
       "      <th>Yellow Card</th>\n",
       "      <th>Red</th>\n",
       "      <th>1st Goal</th>\n",
       "    </tr>\n",
       "  </thead>\n",
       "  <tbody>\n",
       "    <tr>\n",
       "      <th>23</th>\n",
       "      <td>0</td>\n",
       "      <td>48</td>\n",
       "      <td>0</td>\n",
       "      <td>2</td>\n",
       "      <td>3</td>\n",
       "      <td>5</td>\n",
       "      <td>0</td>\n",
       "      <td>21</td>\n",
       "      <td>3</td>\n",
       "      <td>79</td>\n",
       "      <td>351</td>\n",
       "      <td>103</td>\n",
       "      <td>23</td>\n",
       "      <td>2</td>\n",
       "      <td>0</td>\n",
       "      <td>NaN</td>\n",
       "    </tr>\n",
       "  </tbody>\n",
       "</table>\n",
       "</div>"
      ],
      "text/plain": [
       "    Goal Scored  Ball Possession %  On-Target  Off-Target  Blocked  Corners  \\\n",
       "23            0                 48          0           2        3        5   \n",
       "\n",
       "    Offsides  Free Kicks  Saves  Pass Accuracy %  Passes  \\\n",
       "23         0          21      3               79     351   \n",
       "\n",
       "    Distance Covered (Kms)  Fouls Committed  Yellow Card  Red  1st Goal  \n",
       "23                     103               23            2    0       NaN  "
      ]
     },
     "metadata": {},
     "output_type": "display_data"
    },
    {
     "data": {
      "image/png": "[encoded data removed]",
      "text/plain": [
       "<Figure size 432x288 with 2 Axes>"
      ]
     },
     "metadata": {
      "needs_background": "light"
     },
     "output_type": "display_data"
    }
   ],
   "source": [
    "import random\n",
    "\n",
    "input_file = '../data/FIFA 2018 Statistics.csv'\n",
    "df = pd.read_csv(input_file)\n",
    "target_var = 'Man of the Match'\n",
    "features = ['Goal Scored', 'Ball Possession %', 'On-Target', 'Off-Target', 'Blocked', 'Corners', 'Offsides', \n",
    "           'Free Kicks', 'Saves', 'Pass Accuracy %', 'Passes', 'Distance Covered (Kms)', 'Fouls Committed', \n",
    "            'Yellow Card', 'Red', '1st Goal']\n",
    "\n",
    "def monkey_patch_validate_input():\n",
    "    rand = random.random()\n",
    "    if rand < 0.9:\n",
    "        return random.choice(['Yes', 'No'])\n",
    "    return 'save'\n",
    "\n",
    "labeler = Labeler(df, target_var, features=features)\n",
    "labeler._validate_input = monkey_patch_validate_input\n",
    "\n",
    "with labeler as l:\n",
    "    assert list(l._labels) == [\"Yes\", \"No\"]\n",
    "    assert l._mapping == {0:\"Yes\", 1:\"No\"}\n",
    "    assert l._n == 128\n",
    "    assert l._count == 0\n",
    "    l()\n",
    "    assert len(l._row) == 1"
   ]
  },
  {
   "cell_type": "code",
   "execution_count": null,
   "metadata": {},
   "outputs": [],
   "source": []
  }
 ],
 "metadata": {
  "kernelspec": {
   "display_name": "Python 3",
   "language": "python",
   "name": "python3"
  }
 },
 "nbformat": 4,
 "nbformat_minor": 2
}
