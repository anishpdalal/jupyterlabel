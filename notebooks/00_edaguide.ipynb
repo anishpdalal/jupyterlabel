{
 "cells": [
  {
   "cell_type": "code",
   "execution_count": null,
   "metadata": {},
   "outputs": [],
   "source": [
    "# default_exp edaguide"
   ]
  },
  {
   "cell_type": "code",
   "execution_count": null,
   "metadata": {},
   "outputs": [],
   "source": [
    "%matplotlib inline\n",
    "%load_ext autoreload\n",
    "%autoreload 2"
   ]
  },
  {
   "cell_type": "code",
   "execution_count": null,
   "metadata": {},
   "outputs": [],
   "source": [
    "import csv\n",
    "import sys\n",
    "\n",
    "from IPython.display import clear_output, display\n",
    "import pandas as pd\n",
    "from sklearn.metrics import confusion_matrix\n",
    "import matplotlib.pyplot as plt\n",
    "import seaborn as sns\n",
    "import numpy as np"
   ]
  },
  {
   "cell_type": "code",
   "execution_count": null,
   "metadata": {},
   "outputs": [],
   "source": [
    "input_file = '../data/FIFA 2018 Statistics.csv'\n",
    "output_file = '../data/labels.csv'\n",
    "df = pd.read_csv(input_file)\n",
    "target = 'Man of the Match'\n",
    "features = ['Goal Scored', 'Ball Possession %', 'On-Target', 'Off-Target', 'Blocked', 'Corners', 'Offsides', \n",
    "           'Free Kicks', 'Saves', 'Pass Accuracy %', 'Passes', 'Distance Covered (Kms)', 'Fouls Committed', \n",
    "            'Yellow Card', 'Red', '1st Goal']"
   ]
  },
  {
   "cell_type": "code",
   "execution_count": null,
   "metadata": {},
   "outputs": [],
   "source": [
    "def write_csv(labels, output_path):\n",
    "    print(f\"Writing to {output_path}\")\n",
    "    with open(output_path, 'w') as csvfile:\n",
    "        fieldnames = ['id', 'label']\n",
    "        writer = csv.DictWriter(csvfile, fieldnames=fieldnames)\n",
    "        writer.writeheader()\n",
    "        for label in labels:\n",
    "            writer.writerow({'id': label[0], 'label': label[1]})"
   ]
  },
  {
   "cell_type": "code",
   "execution_count": null,
   "metadata": {},
   "outputs": [],
   "source": [
    "def label_data(df, features, target, output_path):\n",
    "    labels = []\n",
    "    x = df[features]\n",
    "    available_labels = df[target].unique()\n",
    "    print(f\"Available labels: {', '.join(available_labels)}\")\n",
    "    while True:\n",
    "        clear_output()\n",
    "        row = x.sample(1, replace=False)\n",
    "        display(row)\n",
    "        label = input('Enter label or type in save: ')\n",
    "        if label.lower() == 'save':\n",
    "            break\n",
    "        elif label not in available_labels:\n",
    "            while True:\n",
    "                label = input(f\"Enter one of the following labels: {', '.join(available_labels)}\")\n",
    "                if label in available_labels:\n",
    "                    break\n",
    "        labels.append((row.index[0], label))\n",
    "    write_csv(labels, output_path)"
   ]
  },
  {
   "cell_type": "code",
   "execution_count": null,
   "metadata": {},
   "outputs": [
    {
     "data": {
      "text/html": [
       "<div>\n",
       "<style scoped>\n",
       "    .dataframe tbody tr th:only-of-type {\n",
       "        vertical-align: middle;\n",
       "    }\n",
       "\n",
       "    .dataframe tbody tr th {\n",
       "        vertical-align: top;\n",
       "    }\n",
       "\n",
       "    .dataframe thead th {\n",
       "        text-align: right;\n",
       "    }\n",
       "</style>\n",
       "<table border=\"1\" class=\"dataframe\">\n",
       "  <thead>\n",
       "    <tr style=\"text-align: right;\">\n",
       "      <th></th>\n",
       "      <th>Goal Scored</th>\n",
       "      <th>Ball Possession %</th>\n",
       "      <th>On-Target</th>\n",
       "      <th>Off-Target</th>\n",
       "      <th>Blocked</th>\n",
       "      <th>Corners</th>\n",
       "      <th>Offsides</th>\n",
       "      <th>Free Kicks</th>\n",
       "      <th>Saves</th>\n",
       "      <th>Pass Accuracy %</th>\n",
       "      <th>Passes</th>\n",
       "      <th>Distance Covered (Kms)</th>\n",
       "      <th>Fouls Committed</th>\n",
       "      <th>Yellow Card</th>\n",
       "      <th>Red</th>\n",
       "      <th>1st Goal</th>\n",
       "    </tr>\n",
       "  </thead>\n",
       "  <tbody>\n",
       "    <tr>\n",
       "      <th>57</th>\n",
       "      <td>1</td>\n",
       "      <td>29</td>\n",
       "      <td>6</td>\n",
       "      <td>1</td>\n",
       "      <td>1</td>\n",
       "      <td>3</td>\n",
       "      <td>2</td>\n",
       "      <td>17</td>\n",
       "      <td>4</td>\n",
       "      <td>77</td>\n",
       "      <td>213</td>\n",
       "      <td>110</td>\n",
       "      <td>13</td>\n",
       "      <td>2</td>\n",
       "      <td>0</td>\n",
       "      <td>32.0</td>\n",
       "    </tr>\n",
       "  </tbody>\n",
       "</table>\n",
       "</div>"
      ],
      "text/plain": [
       "    Goal Scored  Ball Possession %  On-Target  Off-Target  Blocked  Corners  \\\n",
       "57            1                 29          6           1        1        3   \n",
       "\n",
       "    Offsides  Free Kicks  Saves  Pass Accuracy %  Passes  \\\n",
       "57         2          17      4               77     213   \n",
       "\n",
       "    Distance Covered (Kms)  Fouls Committed  Yellow Card  Red  1st Goal  \n",
       "57                     110               13            2    0      32.0  "
      ]
     },
     "metadata": {},
     "output_type": "display_data"
    },
    {
     "name": "stdout",
     "output_type": "stream",
     "text": [
      "Enter label or type in save: save\n",
      "Writing to ../data/labels.csv\n"
     ]
    }
   ],
   "source": [
    "label_data(df, features, target, output_file)"
   ]
  },
  {
   "cell_type": "code",
   "execution_count": null,
   "metadata": {},
   "outputs": [],
   "source": [
    "def plot_confusion_matrix(df, output_file, target):\n",
    "    labels = df[target].unique()\n",
    "    label_df = pd.read_csv(output_file)\n",
    "    mapping = {}\n",
    "    for ix, label in enumerate(labels):\n",
    "        mapping[ix] = label\n",
    "    df = df.join(label_df.set_index('id'))\n",
    "    df = df[~df.label.isna()]\n",
    "    df.replace(mapping, inplace=True)\n",
    "    cm = confusion_matrix(df[target], df['label'], labels=labels)\n",
    "    fig = plt.figure()\n",
    "    ax= plt.subplot()\n",
    "    sns.heatmap(cm, annot=True, ax = ax, cmap=plt.cm.Blues)\n",
    "    ax.set_xlabel('Predicted labels');\n",
    "    ax.set_ylabel('True labels'); \n",
    "    ax.set_title('Confusion Matrix'); \n",
    "    ax.xaxis.set_ticklabels(labels); \n",
    "    ax.yaxis.set_ticklabels(labels);"
   ]
  },
  {
   "cell_type": "code",
   "execution_count": null,
   "metadata": {},
   "outputs": [
    {
     "data": {
      "image/png": "[encoded data removed]",
      "text/plain": [
       "<Figure size 432x288 with 2 Axes>"
      ]
     },
     "metadata": {
      "needs_background": "light"
     },
     "output_type": "display_data"
    }
   ],
   "source": [
    "plot_confusion_matrix(df, output_file, target)"
   ]
  },
  {
   "cell_type": "code",
   "execution_count": null,
   "metadata": {},
   "outputs": [],
   "source": []
  }
 ],
 "metadata": {
  "kernelspec": {
   "display_name": "Python 3",
   "language": "python",
   "name": "python3"
  }
 },
 "nbformat": 4,
 "nbformat_minor": 2
}
