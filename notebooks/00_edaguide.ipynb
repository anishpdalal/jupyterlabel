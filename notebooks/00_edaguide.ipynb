{
 "cells": [
  {
   "cell_type": "code",
   "execution_count": null,
   "metadata": {},
   "outputs": [],
   "source": [
    "# default_exp edaguide"
   ]
  },
  {
   "cell_type": "code",
   "execution_count": null,
   "metadata": {},
   "outputs": [
    {
     "name": "stdout",
     "output_type": "stream",
     "text": [
      "The autoreload extension is already loaded. To reload it, use:\n",
      "  %reload_ext autoreload\n"
     ]
    }
   ],
   "source": [
    "%matplotlib inline\n",
    "%load_ext autoreload\n",
    "%autoreload 2"
   ]
  },
  {
   "cell_type": "code",
   "execution_count": null,
   "metadata": {},
   "outputs": [],
   "source": [
    "import csv\n",
    "import sys\n",
    "\n",
    "from IPython.display import clear_output, display\n",
    "import pandas as pd\n",
    "from sklearn.metrics import confusion_matrix\n",
    "import matplotlib.pyplot as plt\n",
    "import seaborn as sns\n",
    "import numpy as np"
   ]
  },
  {
   "cell_type": "code",
   "execution_count": null,
   "metadata": {},
   "outputs": [],
   "source": [
    "input_file = '../data/FIFA 2018 Statistics.csv'\n",
    "output_file = '../data/labels.csv'\n",
    "df = pd.read_csv(input_file)\n",
    "target_var = 'Man of the Match'\n",
    "features = ['Goal Scored', 'Ball Possession %', 'On-Target', 'Off-Target', 'Blocked', 'Corners', 'Offsides', \n",
    "           'Free Kicks', 'Saves', 'Pass Accuracy %', 'Passes', 'Distance Covered (Kms)', 'Fouls Committed', \n",
    "            'Yellow Card', 'Red', '1st Goal']"
   ]
  },
  {
   "cell_type": "code",
   "execution_count": null,
   "metadata": {},
   "outputs": [],
   "source": [
    "class Labeler:\n",
    "    def __init__(self, df, target_var, output_path, features=None):\n",
    "        self.df = df\n",
    "        self.features = features\n",
    "        self.target_var = target_var\n",
    "        self.output_path = output_path\n",
    "        \n",
    "    def _validate_input(self):\n",
    "        while True:\n",
    "            label = input('Enter option: ')\n",
    "            if label == 'save' or label in self._labels:\n",
    "                break\n",
    "            else:\n",
    "                continue\n",
    "        return label\n",
    "    \n",
    "    def __call__(self):\n",
    "        while self._count <= self._n:\n",
    "            clear_output(wait=True)\n",
    "            print(f\"Valid options: {', '.join(self._labels)}, save\")\n",
    "            print(f\"Total samples labeled: {self._count}/{self._n}\")\n",
    "            self._row = self._df.sample(1, replace=False)\n",
    "            display(self._row[self.features])\n",
    "            self._label = self._validate_input()\n",
    "            if self._label == 'save':\n",
    "                break\n",
    "            self._row['manual_label'] = self._label\n",
    "            self._label_df = self._label_df.append(self._row.copy())\n",
    "            self._count += 1\n",
    "    \n",
    "    def __enter__(self):\n",
    "        self._labels = self.df[self.target_var].unique()\n",
    "        self._mapping = {}\n",
    "        self._n = len(self.df)\n",
    "        self._count = 0\n",
    "        self._df = self.df[self.features + [self.target_var]].copy() if self.features else self.df.copy()\n",
    "        self._label_df = pd.DataFrame(columns=list(self._df.columns) + ['manual_label'])\n",
    "        for ix, label in enumerate(self._labels):\n",
    "            self._mapping[ix] = label\n",
    "        return self\n",
    "    \n",
    "    def __exit__(self, exc_type, exc_val, exc_tb):\n",
    "        self._label_df['manual_label'].replace(self._mapping, inplace=True)\n",
    "        cm = confusion_matrix(self._label_df[self.target_var],\n",
    "                              self._label_df['manual_label'],\n",
    "                              labels=self._labels)\n",
    "        fig = plt.figure()\n",
    "        ax= plt.subplot()\n",
    "        sns.heatmap(cm, annot=True, ax = ax, cmap=plt.cm.Blues)\n",
    "        ax.set_xlabel('Predicted labels');\n",
    "        ax.set_ylabel('True labels'); \n",
    "        ax.set_title('Confusion Matrix'); \n",
    "        ax.xaxis.set_ticklabels(self._labels); \n",
    "        ax.yaxis.set_ticklabels(self._labels);\n",
    "        \n",
    "        if self.output_path.endswith('.csv'):\n",
    "            print(f\"Writing csv to {self.output_path}\")\n",
    "            self._label_df.to_csv(self.output_path)"
   ]
  },
  {
   "cell_type": "code",
   "execution_count": null,
   "metadata": {},
   "outputs": [],
   "source": [
    "labeler = Labeler(df, target_var, output_file, features=features)"
   ]
  },
  {
   "cell_type": "code",
   "execution_count": null,
   "metadata": {},
   "outputs": [
    {
     "name": "stdout",
     "output_type": "stream",
     "text": [
      "Valid options: Yes, No, save\n",
      "Total samples labeled: 8/128\n"
     ]
    },
    {
     "data": {
      "text/html": [
       "<div>\n",
       "<style scoped>\n",
       "    .dataframe tbody tr th:only-of-type {\n",
       "        vertical-align: middle;\n",
       "    }\n",
       "\n",
       "    .dataframe tbody tr th {\n",
       "        vertical-align: top;\n",
       "    }\n",
       "\n",
       "    .dataframe thead th {\n",
       "        text-align: right;\n",
       "    }\n",
       "</style>\n",
       "<table border=\"1\" class=\"dataframe\">\n",
       "  <thead>\n",
       "    <tr style=\"text-align: right;\">\n",
       "      <th></th>\n",
       "      <th>Goal Scored</th>\n",
       "      <th>Ball Possession %</th>\n",
       "      <th>On-Target</th>\n",
       "      <th>Off-Target</th>\n",
       "      <th>Blocked</th>\n",
       "      <th>Corners</th>\n",
       "      <th>Offsides</th>\n",
       "      <th>Free Kicks</th>\n",
       "      <th>Saves</th>\n",
       "      <th>Pass Accuracy %</th>\n",
       "      <th>Passes</th>\n",
       "      <th>Distance Covered (Kms)</th>\n",
       "      <th>Fouls Committed</th>\n",
       "      <th>Yellow Card</th>\n",
       "      <th>Red</th>\n",
       "      <th>1st Goal</th>\n",
       "    </tr>\n",
       "  </thead>\n",
       "  <tbody>\n",
       "    <tr>\n",
       "      <th>112</th>\n",
       "      <td>0</td>\n",
       "      <td>42</td>\n",
       "      <td>4</td>\n",
       "      <td>6</td>\n",
       "      <td>1</td>\n",
       "      <td>4</td>\n",
       "      <td>0</td>\n",
       "      <td>15</td>\n",
       "      <td>0</td>\n",
       "      <td>67</td>\n",
       "      <td>322</td>\n",
       "      <td>103</td>\n",
       "      <td>17</td>\n",
       "      <td>2</td>\n",
       "      <td>0</td>\n",
       "      <td>NaN</td>\n",
       "    </tr>\n",
       "  </tbody>\n",
       "</table>\n",
       "</div>"
      ],
      "text/plain": [
       "     Goal Scored  Ball Possession %  On-Target  Off-Target  Blocked  Corners  \\\n",
       "112            0                 42          4           6        1        4   \n",
       "\n",
       "     Offsides  Free Kicks  Saves  Pass Accuracy %  Passes  \\\n",
       "112         0          15      0               67     322   \n",
       "\n",
       "     Distance Covered (Kms)  Fouls Committed  Yellow Card  Red  1st Goal  \n",
       "112                     103               17            2    0       NaN  "
      ]
     },
     "metadata": {},
     "output_type": "display_data"
    },
    {
     "name": "stdout",
     "output_type": "stream",
     "text": [
      "Enter option: save\n",
      "Writing csv to ../data/labels.csv\n"
     ]
    },
    {
     "data": {
      "image/png": "[encoded data removed]",
      "text/plain": [
       "<Figure size 432x288 with 2 Axes>"
      ]
     },
     "metadata": {
      "needs_background": "light"
     },
     "output_type": "display_data"
    }
   ],
   "source": [
    "with labeler as l:\n",
    "    l()"
   ]
  },
  {
   "cell_type": "code",
   "execution_count": null,
   "metadata": {},
   "outputs": [],
   "source": []
  }
 ],
 "metadata": {
  "kernelspec": {
   "display_name": "Python 3",
   "language": "python",
   "name": "python3"
  }
 },
 "nbformat": 4,
 "nbformat_minor": 2
}
